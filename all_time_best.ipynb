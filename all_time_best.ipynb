{
 "cells": [
  {
   "cell_type": "markdown",
   "metadata": {},
   "source": [
    "# Rotten Tomatoes\n",
    "***\n",
    "## All Time lists: The best movies ever made by genre and type, ranked by our unique `adjusted Tomatometer!`\n",
    "\n",
    "<div class=\"alert alert-block alert-info\">\n",
    "The adjusted tomatometer Score, takes into account the number of reviews, the year of release, and the average Tomatometer scores of other films released contemporaneously. It is primarily used when comparing or ranking films across several decades.\n",
    "</div>\n",
    "\n",
    "This project is about web scrapping using the `BeautifulSoup` library on a html page which content is embedded into divs, tags and formatted with cascade style sheet (CSS). The objective is extracting every data point related to each movie ranked, create a list for every one of them, group the information in a tabular format and save it as an excel and a csv file in our working directory.\n",
    "\n",
    "Data points:\n",
    "1.\tRank                 : position on the list higer is worst\n",
    "2.\tTitle                : titile of the movie\n",
    "3.\tYear                 : release date\n",
    "4.\tScore                : audience score\n",
    "5.\tAdjusted Tomatometer : rotten caluculated score.\n",
    "6.\tCritics Consensus    : cretics general agreement\n",
    "7.\tSynopsis             : summary of the movie\n",
    "8.\tStarting             : Actor(s)\n",
    "9.\tDirector             : Director\n",
    "\n",
    "Project index:\n",
    "\n",
    "1. Inital Setup\n",
    "2. Finding the div container of all the data points\n",
    "3. Extracting every data point from the soap object to a list\n",
    "4. Using pandas dataframe to give a tabular form to the extracted data\n",
    "5. Exporting the data to Excel and CSV (comma-separated values) files"
   ]
  },
  {
   "cell_type": "markdown",
   "metadata": {},
   "source": [
    "## 1. Initial Setup"
   ]
  },
  {
   "cell_type": "code",
   "execution_count": 1,
   "metadata": {},
   "outputs": [],
   "source": [
    "# Import libraries and packages for:\n",
    "# extract the page content code and save it into a variable\n",
    "# parse the page content into a well format html document\n",
    "# format  the extracted information into a friendly tabular table like format\n",
    "\n",
    "import requests\n",
    "from bs4 import BeautifulSoup\n",
    "import pandas as pd"
   ]
  },
  {
   "cell_type": "code",
   "execution_count": 2,
   "metadata": {},
   "outputs": [],
   "source": [
    "# Steps:\n",
    "\n",
    "# 2. Define the base_site URL for the page we'll get the data from \n",
    "#   Note any other page form https://editorial.rottentomatoes.com/all-time-lists/ will work\n",
    "#   Examples are:\n",
    "#       base_site = \"https://editorial.rottentomatoes.com/guide/best-horror-movies-of-all-time/\"\n",
    "#       base_site = \"https://editorial.rottentomatoes.com/guide/best-sci-fi-movies-of-all-time/\"\n",
    "#       base_site = \"https://editorial.rottentomatoes.com/guide/140-essential-action-movies-to-watch-now/\"\n",
    "\n",
    "# 3. Request and Get the code from the base_site and save it's content in variable \n",
    "#    (usually named 'r' after response) for furder manipulation\n",
    "# 4. Extract the response content into a variable named html\n",
    "# 5. Create a BeatifulSoup object from the html variable using 'lxml' as parser \n",
    "# 6. Export the created object to your working directory as a file for structure analisys.\n",
    "\n",
    "# Define the base URL\n",
    "base_site = \"https://editorial.rottentomatoes.com/guide/best-horror-movies-of-all-time/\""
   ]
  },
  {
   "cell_type": "code",
   "execution_count": 3,
   "metadata": {},
   "outputs": [],
   "source": [
    "# Request and Get the code from the base_site\n",
    "r = requests.get(base_site)"
   ]
  },
  {
   "cell_type": "code",
   "execution_count": 4,
   "metadata": {},
   "outputs": [],
   "source": [
    "# Extract the response (r) content\n",
    "html = r.content"
   ]
  },
  {
   "cell_type": "code",
   "execution_count": 5,
   "metadata": {},
   "outputs": [],
   "source": [
    "# Create the BeatifulSoup object \n",
    "soup = BeautifulSoup(html, 'lxml')"
   ]
  },
  {
   "attachments": {},
   "cell_type": "markdown",
   "metadata": {},
   "source": [
    "<div class=\"alert alert-block alert-warning\">\n",
    "BeautifulSoup ranks the lxml parser as the best one.\n",
    "If a parser is not explicitly stated in the Beautiful Soup constructor,\n",
    "the best one available on the current machine is chosen. This means that the same \n",
    "piece of code can give different results on different computers.\n",
    "</div>"
   ]
  },
  {
   "cell_type": "code",
   "execution_count": 6,
   "metadata": {},
   "outputs": [],
   "source": [
    "# Extracting and formating the name of the list\n",
    "listName = base_site.split(\"/\")[4] .replace('-','_')\n",
    "\n",
    "# Exporting the html to a file in the working directory\n",
    "with open('rt_'+ listName + '.html', 'wb') as file:\n",
    "    file.write(soup.prettify('utf-8'))"
   ]
  },
  {
   "cell_type": "markdown",
   "metadata": {},
   "source": [
    "## 2. Finding the div container of all the data points"
   ]
  },
  {
   "cell_type": "code",
   "execution_count": 7,
   "metadata": {},
   "outputs": [],
   "source": [
    "# After reviewing the Rotten_tomatoes_lxml_parser.html file, it was identified that the div tag with class = \"row countdown-item\" is \n",
    "# the container of all sub-divs that contain and format every data element of a movie. \n",
    "\n",
    "# Definig the principal container of all movie data elements\n",
    "divs = soup.find_all(\"div\", {\"class\": \"row countdown-item\"})"
   ]
  },
  {
   "cell_type": "markdown",
   "metadata": {},
   "source": [
    "## 3. Scraping every data point from the soap object to a list"
   ]
  },
  {
   "cell_type": "code",
   "execution_count": 8,
   "metadata": {},
   "outputs": [],
   "source": [
    "# It is time to start extracting all that information we are intrested in and save it to variables for\n",
    "# later processing. List Comprehension will be the technique used for filtering the desire data in the divs\n",
    "# container and store results in list type variables. \n",
    "\n",
    "# In detail: every data element and it's formating tag or class. \n",
    "\n",
    "# 0. Principal container > div class = \"row countdown-item\"\n",
    "# 1. Rank# >  div class=\"countdown-index\"\n",
    "# 2. Title, Year, Score > div h2 (a, class=\"subtle start-year\", class=\"tMeterScore\")\n",
    "# 3. Adjusted Score > div \"class\": \"countdown-adjusted-score\"\n",
    "# 4. Critics Consensus > class=\"info critics-consensus\"\n",
    "# 5. Synopsis > class=\"info synopsis\"\n",
    "# 6. Starting > class=\"info cast\"\n",
    "# 7. Director > class=\"info director\"\n",
    "\n",
    "\n",
    "# Extracting movie rank#\n",
    "rank = [None if rank.find('div', {\"class\": \"countdown-index\"}) is None\n",
    "    else rank.find('div', {\"class\": \"countdown-index\"}).text.strip('#')\n",
    "        for rank in divs]"
   ]
  },
  {
   "cell_type": "code",
   "execution_count": 9,
   "metadata": {},
   "outputs": [],
   "source": [
    "# Extracting movie title\n",
    "title = [None if title.find('a') is None\n",
    "    else title.find('a').text.strip() \n",
    "        for title in (div.find('h2') for div in divs)]"
   ]
  },
  {
   "cell_type": "code",
   "execution_count": 10,
   "metadata": {},
   "outputs": [],
   "source": [
    "# Extracting movie year\n",
    "year = [None if year.find('span', {'class':'start-year'}).text.strip(\"()\") == \"\"\n",
    "    else year.find('span', {'class':'start-year'}).text.strip(\"()\")\n",
    "        for year in (div.find('h2') for div in divs)]"
   ]
  },
  {
   "cell_type": "code",
   "execution_count": 11,
   "metadata": {},
   "outputs": [],
   "source": [
    "# Extracting movie score\n",
    "score = [None if score.find('span', {'class':'tMeterScore'}) .text.strip(\"%\") == \"\"\n",
    "    else int(score.find('span', {'class':'tMeterScore'}).text.strip(\"%\"))\n",
    "        for score in (div.find('h2') for div in divs)]"
   ]
  },
  {
   "cell_type": "code",
   "execution_count": 12,
   "metadata": {},
   "outputs": [],
   "source": [
    "#Extracting Adjusted-Score\n",
    "adjusted_score = [None if adjusted_score.find('div', {\"class\": \"countdown-adjusted-score\"}) is None\n",
    "    else int(adjusted_score.find('div', {\"class\": \"countdown-adjusted-score\"}).contents[1].strip('% '))\n",
    "        for adjusted_score in divs]"
   ]
  },
  {
   "cell_type": "code",
   "execution_count": 13,
   "metadata": {},
   "outputs": [],
   "source": [
    "# Extracting movie critics-consensus\n",
    "critics_consensus = [None if critics_consensus.find('div', {\"class\": \"info critics-consensus\"}) is None\n",
    "    else critics_consensus.find('div', {\"class\": \"info critics-consensus\"}).text.strip('Critics Consensus: ')\n",
    "        for critics_consensus in divs]"
   ]
  },
  {
   "cell_type": "code",
   "execution_count": 14,
   "metadata": {},
   "outputs": [],
   "source": [
    "# Extracting movie synopsis\n",
    "synopsis = [None if synopsis.find('div', {\"class\": \"info synopsis\"}) is None\n",
    "    else synopsis.find('div', {\"class\": \"info synopsis\"}).contents[1].strip()\n",
    "        for synopsis in divs]"
   ]
  },
  {
   "cell_type": "code",
   "execution_count": 15,
   "metadata": {},
   "outputs": [],
   "source": [
    "# Extracting movie cast\n",
    "cast = [None if cast.find('div', {\"class\": \"info cast\"}) is None\n",
    "    else cast.find('div', {\"class\": \"info cast\"}).text.strip(' \\nStarring:')\n",
    "        for cast in divs]"
   ]
  },
  {
   "cell_type": "code",
   "execution_count": 16,
   "metadata": {},
   "outputs": [],
   "source": [
    "# Extracting movie director\n",
    "director = [None if director.find('div', {\"class\": \"info director\"}) is None\n",
    "    else director.find('div', {\"class\": \"info director\"}).text.strip('\\nDirected By: ')\n",
    "        for director in divs]"
   ]
  },
  {
   "cell_type": "markdown",
   "metadata": {},
   "source": [
    "## 4. Using pandas dataframe to give a tabular form to the extracted data"
   ]
  },
  {
   "cell_type": "code",
   "execution_count": 17,
   "metadata": {},
   "outputs": [],
   "source": [
    "# Steps\n",
    "\n",
    "# 1. Set the max_coldwidth feature to None. By default, pandas abbreviates any text beyond\n",
    "#    a certain length (as seen in the Cast and Consensus columns). We can change that\n",
    "#    by setting the maximum column width to None, which means the column would be\n",
    "#    as wide as to display the whole text\n",
    "# 2. Set the values for score and adjusted score to only show 2 decimal places.\n",
    "# 3. Create a pandas dataframe hold and organize in tabular form to the data.\n",
    "# 4. Populate the movies_info dataframe with every list created (title, rank, year, etc.) \n",
    "# 5. Sort the data by the field Adjusted Tomatometer show one the many benefits \n",
    "#    of having the information into pandas dataframe\n",
    "\n",
    "# Setting column with to None\n",
    "pd.set_option('display.max_colwidth', None)\n",
    "\n",
    "# Setting floats to Two decimal places\n",
    "pd.options.display.float_format = '${:,.2f}'.format"
   ]
  },
  {
   "cell_type": "code",
   "execution_count": 18,
   "metadata": {},
   "outputs": [],
   "source": [
    "# Creating the dataframe\n",
    "movies_info = pd.DataFrame()"
   ]
  },
  {
   "cell_type": "code",
   "execution_count": 19,
   "metadata": {},
   "outputs": [],
   "source": [
    "# Populating the dataframe\n",
    "movies_info[\"Movie Title\"] = title\n",
    "movies_info[\"Rank\"] = rank\n",
    "movies_info[\"Year\"] = year\n",
    "movies_info[\"Score\"] = score\n",
    "movies_info[\"Adjusted Tomatometer\"] = adjusted_score\n",
    "movies_info[\"Consensus\"] = critics_consensus\n",
    "movies_info[\"Synopsis\"] = synopsis\n",
    "movies_info[\"Cast\"] = cast\n",
    "movies_info[\"Director\"] = director"
   ]
  },
  {
   "cell_type": "code",
   "execution_count": 20,
   "metadata": {},
   "outputs": [
    {
     "data": {
      "text/html": [
       "<style type=\"text/css\">\n",
       "</style>\n",
       "<table id=\"T_65792\">\n",
       "  <thead>\n",
       "    <tr>\n",
       "      <th id=\"T_65792_level0_col0\" class=\"col_heading level0 col0\" >Movie Title</th>\n",
       "      <th id=\"T_65792_level0_col1\" class=\"col_heading level0 col1\" >Rank</th>\n",
       "      <th id=\"T_65792_level0_col2\" class=\"col_heading level0 col2\" >Year</th>\n",
       "      <th id=\"T_65792_level0_col3\" class=\"col_heading level0 col3\" >Score</th>\n",
       "      <th id=\"T_65792_level0_col4\" class=\"col_heading level0 col4\" >Adjusted Tomatometer</th>\n",
       "      <th id=\"T_65792_level0_col5\" class=\"col_heading level0 col5\" >Consensus</th>\n",
       "      <th id=\"T_65792_level0_col6\" class=\"col_heading level0 col6\" >Synopsis</th>\n",
       "      <th id=\"T_65792_level0_col7\" class=\"col_heading level0 col7\" >Cast</th>\n",
       "      <th id=\"T_65792_level0_col8\" class=\"col_heading level0 col8\" >Director</th>\n",
       "    </tr>\n",
       "  </thead>\n",
       "  <tbody>\n",
       "    <tr>\n",
       "      <td id=\"T_65792_row0_col0\" class=\"data row0 col0\" >A Nightmare on Elm Street 3: Dream Warriors</td>\n",
       "      <td id=\"T_65792_row0_col1\" class=\"data row0 col1\" >200</td>\n",
       "      <td id=\"T_65792_row0_col2\" class=\"data row0 col2\" >1987</td>\n",
       "      <td id=\"T_65792_row0_col3\" class=\"data row0 col3\" >71</td>\n",
       "      <td id=\"T_65792_row0_col4\" class=\"data row0 col4\" >73367</td>\n",
       "      <td id=\"T_65792_row0_col5\" class=\"data row0 col5\" >A Nightmare on Elm Street 3: Dream Warriors offers an imaginative and surprisingly satisfying rebound for a franchise already starting to succumb to sequelitis.</td>\n",
       "      <td id=\"T_65792_row0_col6\" class=\"data row0 col6\" >During a hallucinatory incident, young Kristen Parker (Patricia Arquette) has her wrists slashed by dream-stalking monster Freddy Krueger (Robert Englund)....</td>\n",
       "      <td id=\"T_65792_row0_col7\" class=\"data row0 col7\" >Heather Langenkamp, Patricia Arquette, Craig Wasson, Larry Fishburne</td>\n",
       "      <td id=\"T_65792_row0_col8\" class=\"data row0 col8\" >Chuck Russell</td>\n",
       "    </tr>\n",
       "    <tr>\n",
       "      <td id=\"T_65792_row1_col0\" class=\"data row1 col0\" >Phenomena</td>\n",
       "      <td id=\"T_65792_row1_col1\" class=\"data row1 col1\" >199</td>\n",
       "      <td id=\"T_65792_row1_col2\" class=\"data row1 col2\" >1985</td>\n",
       "      <td id=\"T_65792_row1_col3\" class=\"data row1 col3\" >76</td>\n",
       "      <td id=\"T_65792_row1_col4\" class=\"data row1 col4\" >75174</td>\n",
       "      <td id=\"T_65792_row1_col5\" class=\"data row1 col5\" >No consensus yet.</td>\n",
       "      <td id=\"T_65792_row1_col6\" class=\"data row1 col6\" >An American (Jennifer Connelly) at a Swiss finishing school calls on insects to help a paralyzed scientist (Donald Pleasence) fight...</td>\n",
       "      <td id=\"T_65792_row1_col7\" class=\"data row1 col7\" >Jennifer Connelly, Donald Pleasence, Dalila Di Lazzaro, Fausta Avell</td>\n",
       "      <td id=\"T_65792_row1_col8\" class=\"data row1 col8\" >ario Argento</td>\n",
       "    </tr>\n",
       "    <tr>\n",
       "      <td id=\"T_65792_row2_col0\" class=\"data row2 col0\" >Bram Stoker's Dracula</td>\n",
       "      <td id=\"T_65792_row2_col1\" class=\"data row2 col1\" >198</td>\n",
       "      <td id=\"T_65792_row2_col2\" class=\"data row2 col2\" >1992</td>\n",
       "      <td id=\"T_65792_row2_col3\" class=\"data row2 col3\" >76</td>\n",
       "      <td id=\"T_65792_row2_col4\" class=\"data row2 col4\" >80034</td>\n",
       "      <td id=\"T_65792_row2_col5\" class=\"data row2 col5\" >Overblown in the best sense of the word, Francis Ford Coppola's vision of Bram Stoker's Dracula rescues the character from decades of campy interpretations -- and features some terrific performances to boot.</td>\n",
       "      <td id=\"T_65792_row2_col6\" class=\"data row2 col6\" >Adaptation of Bram Stoker's classic vampire novel. Gary Oldman plays Dracula whose lonely soul is determined to reunite with his...</td>\n",
       "      <td id=\"T_65792_row2_col7\" class=\"data row2 col7\" >Gary Oldman, Winona Ryder, Anthony Hopkins, Keanu Reeves</td>\n",
       "      <td id=\"T_65792_row2_col8\" class=\"data row2 col8\" >Francis Ford Coppola</td>\n",
       "    </tr>\n",
       "    <tr>\n",
       "      <td id=\"T_65792_row3_col0\" class=\"data row3 col0\" >Hellraiser</td>\n",
       "      <td id=\"T_65792_row3_col1\" class=\"data row3 col1\" >197</td>\n",
       "      <td id=\"T_65792_row3_col2\" class=\"data row3 col2\" >1987</td>\n",
       "      <td id=\"T_65792_row3_col3\" class=\"data row3 col3\" >71</td>\n",
       "      <td id=\"T_65792_row3_col4\" class=\"data row3 col4\" >73519</td>\n",
       "      <td id=\"T_65792_row3_col5\" class=\"data row3 col5\" >Elevated by writer-director Clive Barker's fiendishly unique vision, Hellraiser offers a disquieting - and sadistically smart - alternative to mindless gore.</td>\n",
       "      <td id=\"T_65792_row3_col6\" class=\"data row3 col6\" >Sexual deviant Frank (Sean Chapman) inadvertently opens a portal to hell when he tinkers with a box he bought while...</td>\n",
       "      <td id=\"T_65792_row3_col7\" class=\"data row3 col7\" >Andrew Robinson, Clare Higgins, Ashley Laurence, Sean Chapm</td>\n",
       "      <td id=\"T_65792_row3_col8\" class=\"data row3 col8\" >Clive Bark</td>\n",
       "    </tr>\n",
       "    <tr>\n",
       "      <td id=\"T_65792_row4_col0\" class=\"data row4 col0\" >It's Alive!</td>\n",
       "      <td id=\"T_65792_row4_col1\" class=\"data row4 col1\" >196</td>\n",
       "      <td id=\"T_65792_row4_col2\" class=\"data row4 col2\" >1974</td>\n",
       "      <td id=\"T_65792_row4_col3\" class=\"data row4 col3\" >70</td>\n",
       "      <td id=\"T_65792_row4_col4\" class=\"data row4 col4\" >70611</td>\n",
       "      <td id=\"T_65792_row4_col5\" class=\"data row4 col5\" >Tough and unpleasant, It's Alive throttles the viewer with its bizarre mutant baby theatrics.</td>\n",
       "      <td id=\"T_65792_row4_col6\" class=\"data row4 col6\" >Leaving their son, Chris (Daniel Holzman), with a family friend (William Wellman Jr.), Frank (John P. Ryan) and Lenore Davis...</td>\n",
       "      <td id=\"T_65792_row4_col7\" class=\"data row4 col7\" >John P. Ryan, Sharon Farrell, Andrew Duggan, Guy Stockwell</td>\n",
       "      <td id=\"T_65792_row4_col8\" class=\"data row4 col8\" >Larry Cohen</td>\n",
       "    </tr>\n",
       "    <tr>\n",
       "      <td id=\"T_65792_row5_col0\" class=\"data row5 col0\" >Jacob's Ladder</td>\n",
       "      <td id=\"T_65792_row5_col1\" class=\"data row5 col1\" >195</td>\n",
       "      <td id=\"T_65792_row5_col2\" class=\"data row5 col2\" >1990</td>\n",
       "      <td id=\"T_65792_row5_col3\" class=\"data row5 col3\" >73</td>\n",
       "      <td id=\"T_65792_row5_col4\" class=\"data row5 col4\" >77529</td>\n",
       "      <td id=\"T_65792_row5_col5\" class=\"data row5 col5\" >Even with its disorienting leaps of logic and structure, Jacob's Ladder is an engrossing, nerve-shattering experience.</td>\n",
       "      <td id=\"T_65792_row5_col6\" class=\"data row5 col6\" >After returning home from the Vietnam War, veteran Jacob Singer (Tim Robbins) struggles to maintain his sanity. Plagued by hallucinations...</td>\n",
       "      <td id=\"T_65792_row5_col7\" class=\"data row5 col7\" >Tim Robbins, Elizabeth Peña, Danny Aiello, Matt Crave</td>\n",
       "      <td id=\"T_65792_row5_col8\" class=\"data row5 col8\" >Adrian Lyn</td>\n",
       "    </tr>\n",
       "    <tr>\n",
       "      <td id=\"T_65792_row6_col0\" class=\"data row6 col0\" >Open Water</td>\n",
       "      <td id=\"T_65792_row6_col1\" class=\"data row6 col1\" >194</td>\n",
       "      <td id=\"T_65792_row6_col2\" class=\"data row6 col2\" >2003</td>\n",
       "      <td id=\"T_65792_row6_col3\" class=\"data row6 col3\" >71</td>\n",
       "      <td id=\"T_65792_row6_col4\" class=\"data row6 col4\" >78226</td>\n",
       "      <td id=\"T_65792_row6_col5\" class=\"data row6 col5\" >A low budget thriller with some intense moments.</td>\n",
       "      <td id=\"T_65792_row6_col6\" class=\"data row6 col6\" >Daniel (Daniel Travis) and Susan (Blanchard Ryan) embark on a tropical vacation with their scuba-diving certifications in tow. During a...</td>\n",
       "      <td id=\"T_65792_row6_col7\" class=\"data row6 col7\" >Blanchard Ryan, Daniel Travis, Saul Stein, Estelle Lau</td>\n",
       "      <td id=\"T_65792_row6_col8\" class=\"data row6 col8\" >Chris Kentis</td>\n",
       "    </tr>\n",
       "    <tr>\n",
       "      <td id=\"T_65792_row7_col0\" class=\"data row7 col0\" >The Mist</td>\n",
       "      <td id=\"T_65792_row7_col1\" class=\"data row7 col1\" >193</td>\n",
       "      <td id=\"T_65792_row7_col2\" class=\"data row7 col2\" >2007</td>\n",
       "      <td id=\"T_65792_row7_col3\" class=\"data row7 col3\" >72</td>\n",
       "      <td id=\"T_65792_row7_col4\" class=\"data row7 col4\" >77415</td>\n",
       "      <td id=\"T_65792_row7_col5\" class=\"data row7 col5\" >Frank Darabont's impressive camerawork and politically incisive script make The Mist a truly frightening experience.</td>\n",
       "      <td id=\"T_65792_row7_col6\" class=\"data row7 col6\" >After a powerful storm damages their Maine home, David Drayton (Thomas Jane) and his young son head into town to...</td>\n",
       "      <td id=\"T_65792_row7_col7\" class=\"data row7 col7\" >Thomas Jane, Marcia Gay Harden, Laurie Holden, Andre Braughe</td>\n",
       "      <td id=\"T_65792_row7_col8\" class=\"data row7 col8\" >Frank Darabon</td>\n",
       "    </tr>\n",
       "    <tr>\n",
       "      <td id=\"T_65792_row8_col0\" class=\"data row8 col0\" >The Ring</td>\n",
       "      <td id=\"T_65792_row8_col1\" class=\"data row8 col1\" >192</td>\n",
       "      <td id=\"T_65792_row8_col2\" class=\"data row8 col2\" >2002</td>\n",
       "      <td id=\"T_65792_row8_col3\" class=\"data row8 col3\" >71</td>\n",
       "      <td id=\"T_65792_row8_col4\" class=\"data row8 col4\" >77104</td>\n",
       "      <td id=\"T_65792_row8_col5\" class=\"data row8 col5\" >With little gore and a lot of creepy visuals, The Ring gets under your skin, thanks to director Gore Verbinski's haunting sense of atmosphere and an impassioned performance from Naomi Watts.</td>\n",
       "      <td id=\"T_65792_row8_col6\" class=\"data row8 col6\" >It sounds like just another urban legend -- a videotape filled with nightmarish images leads to a phone call foretelling...</td>\n",
       "      <td id=\"T_65792_row8_col7\" class=\"data row8 col7\" >Naomi Watts, Martin Henderson, David Dorfman, Brian Cox</td>\n",
       "      <td id=\"T_65792_row8_col8\" class=\"data row8 col8\" >Gore Verbinsk</td>\n",
       "    </tr>\n",
       "    <tr>\n",
       "      <td id=\"T_65792_row9_col0\" class=\"data row9 col0\" >Phantasm</td>\n",
       "      <td id=\"T_65792_row9_col1\" class=\"data row9 col1\" >191</td>\n",
       "      <td id=\"T_65792_row9_col2\" class=\"data row9 col2\" >1979</td>\n",
       "      <td id=\"T_65792_row9_col3\" class=\"data row9 col3\" >74</td>\n",
       "      <td id=\"T_65792_row9_col4\" class=\"data row9 col4\" >76476</td>\n",
       "      <td id=\"T_65792_row9_col5\" class=\"data row9 col5\" >Phantasm: Remastered adds visual clarity to the first installment in one of horror's most enduring -- and endearingly idiosyncratic -- franchises.</td>\n",
       "      <td id=\"T_65792_row9_col6\" class=\"data row9 col6\" >The residents of a small town have begun dying under strange circumstances, leading young Mike (Michael Baldwin) to investigate. After...</td>\n",
       "      <td id=\"T_65792_row9_col7\" class=\"data row9 col7\" >Michael Baldwin, Bill Thornbury, Reggie Bannister, Kathy Leste</td>\n",
       "      <td id=\"T_65792_row9_col8\" class=\"data row9 col8\" >on Coscarell</td>\n",
       "    </tr>\n",
       "  </tbody>\n",
       "</table>\n"
      ],
      "text/plain": [
       "<pandas.io.formats.style.Styler at 0x27979d66ce0>"
      ]
     },
     "execution_count": 20,
     "metadata": {},
     "output_type": "execute_result"
    }
   ],
   "source": [
    "# Printing the movies_info pandas dataframe \n",
    "movies_info.head(10).style.hide(axis='index')"
   ]
  },
  {
   "cell_type": "code",
   "execution_count": 21,
   "metadata": {},
   "outputs": [
    {
     "data": {
      "text/html": [
       "<style type=\"text/css\">\n",
       "</style>\n",
       "<table id=\"T_431e9\">\n",
       "  <thead>\n",
       "    <tr>\n",
       "      <th id=\"T_431e9_level0_col0\" class=\"col_heading level0 col0\" >Movie Title</th>\n",
       "      <th id=\"T_431e9_level0_col1\" class=\"col_heading level0 col1\" >Rank</th>\n",
       "      <th id=\"T_431e9_level0_col2\" class=\"col_heading level0 col2\" >Year</th>\n",
       "      <th id=\"T_431e9_level0_col3\" class=\"col_heading level0 col3\" >Score</th>\n",
       "      <th id=\"T_431e9_level0_col4\" class=\"col_heading level0 col4\" >Adjusted Tomatometer</th>\n",
       "      <th id=\"T_431e9_level0_col5\" class=\"col_heading level0 col5\" >Consensus</th>\n",
       "      <th id=\"T_431e9_level0_col6\" class=\"col_heading level0 col6\" >Synopsis</th>\n",
       "      <th id=\"T_431e9_level0_col7\" class=\"col_heading level0 col7\" >Cast</th>\n",
       "      <th id=\"T_431e9_level0_col8\" class=\"col_heading level0 col8\" >Director</th>\n",
       "    </tr>\n",
       "  </thead>\n",
       "  <tbody>\n",
       "    <tr>\n",
       "      <td id=\"T_431e9_row0_col0\" class=\"data row0 col0\" >Get Out</td>\n",
       "      <td id=\"T_431e9_row0_col1\" class=\"data row0 col1\" >2</td>\n",
       "      <td id=\"T_431e9_row0_col2\" class=\"data row0 col2\" >2017</td>\n",
       "      <td id=\"T_431e9_row0_col3\" class=\"data row0 col3\" >98</td>\n",
       "      <td id=\"T_431e9_row0_col4\" class=\"data row0 col4\" >129043</td>\n",
       "      <td id=\"T_431e9_row0_col5\" class=\"data row0 col5\" >Funny, scary, and thought-provoking, Get Out seamlessly weaves its trenchant social critiques into a brilliantly effective and entertaining horror/comedy thrill ride.</td>\n",
       "      <td id=\"T_431e9_row0_col6\" class=\"data row0 col6\" >Now that Chris and his girlfriend, Rose, have reached the meet-the-parents milestone of dating, she invites him for a weekend...</td>\n",
       "      <td id=\"T_431e9_row0_col7\" class=\"data row0 col7\" >Daniel Kaluuya, Allison Williams, Catherine Keener, Bradley Whitford</td>\n",
       "      <td id=\"T_431e9_row0_col8\" class=\"data row0 col8\" >Jordan Peel</td>\n",
       "    </tr>\n",
       "    <tr>\n",
       "      <td id=\"T_431e9_row1_col0\" class=\"data row1 col0\" >Us</td>\n",
       "      <td id=\"T_431e9_row1_col1\" class=\"data row1 col1\" >4</td>\n",
       "      <td id=\"T_431e9_row1_col2\" class=\"data row1 col2\" >2019</td>\n",
       "      <td id=\"T_431e9_row1_col3\" class=\"data row1 col3\" >93</td>\n",
       "      <td id=\"T_431e9_row1_col4\" class=\"data row1 col4\" >127662</td>\n",
       "      <td id=\"T_431e9_row1_col5\" class=\"data row1 col5\" >With Jordan Peele's second inventive, ambitious horror film, we have seen how to beat the sophomore jinx, and it is Us.</td>\n",
       "      <td id=\"T_431e9_row1_col6\" class=\"data row1 col6\" >Accompanied by her husband, son and daughter, Adelaide Wilson returns to the beachfront home where she grew up as a...</td>\n",
       "      <td id=\"T_431e9_row1_col7\" class=\"data row1 col7\" >Lupita Nyong'o, Winston Duke, Elisabeth Moss, Tim Heidecke</td>\n",
       "      <td id=\"T_431e9_row1_col8\" class=\"data row1 col8\" >Jordan Peel</td>\n",
       "    </tr>\n",
       "    <tr>\n",
       "      <td id=\"T_431e9_row2_col0\" class=\"data row2 col0\" >The Invisible Man</td>\n",
       "      <td id=\"T_431e9_row2_col1\" class=\"data row2 col1\" >9</td>\n",
       "      <td id=\"T_431e9_row2_col2\" class=\"data row2 col2\" >2020</td>\n",
       "      <td id=\"T_431e9_row2_col3\" class=\"data row2 col3\" >92</td>\n",
       "      <td id=\"T_431e9_row2_col4\" class=\"data row2 col4\" >121500</td>\n",
       "      <td id=\"T_431e9_row2_col5\" class=\"data row2 col5\" >Smart, well-acted, and above all scary, The Invisible Man proves that sometimes, the classic source material for a fresh reboot can be hiding in plain sight.</td>\n",
       "      <td id=\"T_431e9_row2_col6\" class=\"data row2 col6\" >After staging his own suicide, a crazed scientist uses his power to become invisible to stalk and terrorize his ex-girlfriend....</td>\n",
       "      <td id=\"T_431e9_row2_col7\" class=\"data row2 col7\" >Elisabeth Moss, Oliver Jackson-Cohen, Aldis Hodge, Storm Reid</td>\n",
       "      <td id=\"T_431e9_row2_col8\" class=\"data row2 col8\" >Leigh Whannell</td>\n",
       "    </tr>\n",
       "    <tr>\n",
       "      <td id=\"T_431e9_row3_col0\" class=\"data row3 col0\" >A Quiet Place</td>\n",
       "      <td id=\"T_431e9_row3_col1\" class=\"data row3 col1\" >10</td>\n",
       "      <td id=\"T_431e9_row3_col2\" class=\"data row3 col2\" >2018</td>\n",
       "      <td id=\"T_431e9_row3_col3\" class=\"data row3 col3\" >96</td>\n",
       "      <td id=\"T_431e9_row3_col4\" class=\"data row3 col4\" >119157</td>\n",
       "      <td id=\"T_431e9_row3_col5\" class=\"data row3 col5\" >A Quiet Place artfully plays on elemental fears with a ruthlessly intelligent creature feature that's as original as it is scary -- and establishes director John Krasinski as a rising talent.</td>\n",
       "      <td id=\"T_431e9_row3_col6\" class=\"data row3 col6\" >If they hear you, they hunt you. A family must live in silence to avoid mysterious creatures that hunt by...</td>\n",
       "      <td id=\"T_431e9_row3_col7\" class=\"data row3 col7\" >Emily Blunt, John Krasinski, Millicent Simmonds, Noah Jupe</td>\n",
       "      <td id=\"T_431e9_row3_col8\" class=\"data row3 col8\" >John Krasinsk</td>\n",
       "    </tr>\n",
       "    <tr>\n",
       "      <td id=\"T_431e9_row4_col0\" class=\"data row4 col0\" >It</td>\n",
       "      <td id=\"T_431e9_row4_col1\" class=\"data row4 col1\" >41</td>\n",
       "      <td id=\"T_431e9_row4_col2\" class=\"data row4 col2\" >2017</td>\n",
       "      <td id=\"T_431e9_row4_col3\" class=\"data row4 col3\" >86</td>\n",
       "      <td id=\"T_431e9_row4_col4\" class=\"data row4 col4\" >115240</td>\n",
       "      <td id=\"T_431e9_row4_col5\" class=\"data row4 col5\" >Well-acted and fiendishly frightening with an emotionally affecting story at its core, It amplifies the horror in Stephen King's classic story without losing touch with its heart.</td>\n",
       "      <td id=\"T_431e9_row4_col6\" class=\"data row4 col6\" >Seven young outcasts in Derry, Maine, are about to face their worst nightmare -- an ancient, shape-shifting evil that emerges...</td>\n",
       "      <td id=\"T_431e9_row4_col7\" class=\"data row4 col7\" >Jaeden Lieberher, Jeremy Ray Taylor, Sophia Lillis, Finn Wolfhard</td>\n",
       "      <td id=\"T_431e9_row4_col8\" class=\"data row4 col8\" >Andy Musch</td>\n",
       "    </tr>\n",
       "    <tr>\n",
       "      <td id=\"T_431e9_row5_col0\" class=\"data row5 col0\" >The Cabinet of Dr. Caligari</td>\n",
       "      <td id=\"T_431e9_row5_col1\" class=\"data row5 col1\" >3</td>\n",
       "      <td id=\"T_431e9_row5_col2\" class=\"data row5 col2\" >1919</td>\n",
       "      <td id=\"T_431e9_row5_col3\" class=\"data row5 col3\" >99</td>\n",
       "      <td id=\"T_431e9_row5_col4\" class=\"data row5 col4\" >115195</td>\n",
       "      <td id=\"T_431e9_row5_col5\" class=\"data row5 col5\" >Arguably the first true horror film, The Cabinet of Dr. Caligari set a brilliantly high bar for the genre -- and remains terrifying nearly a century after it first stalked the screen.</td>\n",
       "      <td id=\"T_431e9_row5_col6\" class=\"data row5 col6\" >At a carnival in Germany, Francis (Friedrich Feher) and his friend Alan (Rudolf Lettinger) encounter the crazed Dr. Caligari (Werner...</td>\n",
       "      <td id=\"T_431e9_row5_col7\" class=\"data row5 col7\" >Werner Krauss, Conrad Veidt, Lil Dagover, Friedrich Fehe</td>\n",
       "      <td id=\"T_431e9_row5_col8\" class=\"data row5 col8\" >Robert Wien</td>\n",
       "    </tr>\n",
       "    <tr>\n",
       "      <td id=\"T_431e9_row6_col0\" class=\"data row6 col0\" >The Lighthouse</td>\n",
       "      <td id=\"T_431e9_row6_col1\" class=\"data row6 col1\" >15</td>\n",
       "      <td id=\"T_431e9_row6_col2\" class=\"data row6 col2\" >2019</td>\n",
       "      <td id=\"T_431e9_row6_col3\" class=\"data row6 col3\" >90</td>\n",
       "      <td id=\"T_431e9_row6_col4\" class=\"data row6 col4\" >113615</td>\n",
       "      <td id=\"T_431e9_row6_col5\" class=\"data row6 col5\" >A gripping story brilliantly filmed and led by a pair of powerhouse performances, The Lighthouse further establishes Robert Eggers as a filmmaker of exceptional talent.</td>\n",
       "      <td id=\"T_431e9_row6_col6\" class=\"data row6 col6\" >Two lighthouse keepers try to maintain their sanity while living on a remote and mysterious New England island in the...</td>\n",
       "      <td id=\"T_431e9_row6_col7\" class=\"data row6 col7\" >Robert Pattinson, Willem Dafoe, Valeriia Karaman, Logan Hawkes</td>\n",
       "      <td id=\"T_431e9_row6_col8\" class=\"data row6 col8\" >Robert Eggers</td>\n",
       "    </tr>\n",
       "    <tr>\n",
       "      <td id=\"T_431e9_row7_col0\" class=\"data row7 col0\" >Hereditary</td>\n",
       "      <td id=\"T_431e9_row7_col1\" class=\"data row7 col1\" >18</td>\n",
       "      <td id=\"T_431e9_row7_col2\" class=\"data row7 col2\" >2018</td>\n",
       "      <td id=\"T_431e9_row7_col3\" class=\"data row7 col3\" >89</td>\n",
       "      <td id=\"T_431e9_row7_col4\" class=\"data row7 col4\" >112897</td>\n",
       "      <td id=\"T_431e9_row7_col5\" class=\"data row7 col5\" >Hereditary uses its classic setup as the framework for a harrowing, uncommonly unsettling horror film whose cold touch lingers long beyond the closing credits.</td>\n",
       "      <td id=\"T_431e9_row7_col6\" class=\"data row7 col6\" >When the matriarch of the Graham family passes away, her daughter and grandchildren begin to unravel cryptic and increasingly terrifying...</td>\n",
       "      <td id=\"T_431e9_row7_col7\" class=\"data row7 col7\" >Toni Collette, Gabriel Byrne, Alex Wolff, Ann Dowd</td>\n",
       "      <td id=\"T_431e9_row7_col8\" class=\"data row7 col8\" >Ari As</td>\n",
       "    </tr>\n",
       "    <tr>\n",
       "      <td id=\"T_431e9_row8_col0\" class=\"data row8 col0\" >The Witch</td>\n",
       "      <td id=\"T_431e9_row8_col1\" class=\"data row8 col1\" >31</td>\n",
       "      <td id=\"T_431e9_row8_col2\" class=\"data row8 col2\" >2015</td>\n",
       "      <td id=\"T_431e9_row8_col3\" class=\"data row8 col3\" >90</td>\n",
       "      <td id=\"T_431e9_row8_col4\" class=\"data row8 col4\" >111674</td>\n",
       "      <td id=\"T_431e9_row8_col5\" class=\"data row8 col5\" >As thought-provoking as it is visually compelling, The Witch delivers a deeply unsettling exercise in slow-building horror that suggests great things for debuting writer-director Robert Eggers.</td>\n",
       "      <td id=\"T_431e9_row8_col6\" class=\"data row8 col6\" >In 1630 New England, panic and despair envelops a farmer, his wife and their children when youngest son Samuel suddenly...</td>\n",
       "      <td id=\"T_431e9_row8_col7\" class=\"data row8 col7\" >Anya Taylor-Joy, Ralph Ineson, Kate Dickie, Harvey Scrimshaw</td>\n",
       "      <td id=\"T_431e9_row8_col8\" class=\"data row8 col8\" >Robert Eggers</td>\n",
       "    </tr>\n",
       "    <tr>\n",
       "      <td id=\"T_431e9_row9_col0\" class=\"data row9 col0\" >10 Cloverfield Lane</td>\n",
       "      <td id=\"T_431e9_row9_col1\" class=\"data row9 col1\" >33</td>\n",
       "      <td id=\"T_431e9_row9_col2\" class=\"data row9 col2\" >2016</td>\n",
       "      <td id=\"T_431e9_row9_col3\" class=\"data row9 col3\" >90</td>\n",
       "      <td id=\"T_431e9_row9_col4\" class=\"data row9 col4\" >110513</td>\n",
       "      <td id=\"T_431e9_row9_col5\" class=\"data row9 col5\" >Smart, solidly crafted, and palpably tense, 10 Cloverfield Lane makes the most of its confined setting and outstanding cast -- and suggests a new frontier for franchise filmmaking.</td>\n",
       "      <td id=\"T_431e9_row9_col6\" class=\"data row9 col6\" >After surviving a car accident, Michelle (Mary Elizabeth Winstead) wakes up to find herself in an underground bunker with two...</td>\n",
       "      <td id=\"T_431e9_row9_col7\" class=\"data row9 col7\" >John Goodman, Mary Elizabeth Winstead, John Gallagher Jr., Douglas M. Griff</td>\n",
       "      <td id=\"T_431e9_row9_col8\" class=\"data row9 col8\" >an Trachtenberg</td>\n",
       "    </tr>\n",
       "  </tbody>\n",
       "</table>\n"
      ],
      "text/plain": [
       "<pandas.io.formats.style.Styler at 0x27968b937c0>"
      ]
     },
     "execution_count": 21,
     "metadata": {},
     "output_type": "execute_result"
    }
   ],
   "source": [
    "# sorting the dataframe by top 10 Adjusted Tomatometer\n",
    "movies_info.sort_values('Adjusted Tomatometer', ascending=False).head(10).style.hide(axis='index')"
   ]
  },
  {
   "cell_type": "markdown",
   "metadata": {},
   "source": [
    "## 5. Exporting the data to Excel and CSV (comma-separated values) files"
   ]
  },
  {
   "cell_type": "code",
   "execution_count": 22,
   "metadata": {},
   "outputs": [],
   "source": [
    "# Note: dataframe index is set to False so that the index (0,1,2...) of each movie is not saved to the file (the index is purely internal)\n",
    "# The header is set to True, so that the names of the columns are saved\n",
    "\n",
    "# Write data to excel file\n",
    "movies_info.to_excel(listName + '.xlsx', index = False, header = True)\n",
    "\n",
    "# Write data to CSV file\n",
    "movies_info.to_csv(listName + '.csv', index = False, header = True)"
   ]
  }
 ],
 "metadata": {
  "kernelspec": {
   "display_name": "Python 3.10.5 64-bit",
   "language": "python",
   "name": "python3"
  },
  "language_info": {
   "codemirror_mode": {
    "name": "ipython",
    "version": 3
   },
   "file_extension": ".py",
   "mimetype": "text/x-python",
   "name": "python",
   "nbconvert_exporter": "python",
   "pygments_lexer": "ipython3",
   "version": "3.10.5"
  },
  "vscode": {
   "interpreter": {
    "hash": "56b7ddecb5f8b0aea4e22286f801c765f2699cdf65124c981557f68eafdae354"
   }
  }
 },
 "nbformat": 4,
 "nbformat_minor": 2
}
